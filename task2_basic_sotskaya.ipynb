{
  "nbformat": 4,
  "nbformat_minor": 0,
  "metadata": {
    "colab": {
      "provenance": [],
      "include_colab_link": true
    },
    "kernelspec": {
      "name": "python3",
      "display_name": "Python 3"
    },
    "language_info": {
      "name": "python"
    }
  },
  "cells": [
    {
      "cell_type": "markdown",
      "metadata": {
        "id": "view-in-github",
        "colab_type": "text"
      },
      "source": [
        "<a href=\"https://colab.research.google.com/github/msotskaya/compling/blob/main/task2_basic_sotskaya.ipynb\" target=\"_parent\"><img src=\"https://colab.research.google.com/assets/colab-badge.svg\" alt=\"Open In Colab\"/></a>"
      ]
    },
    {
      "cell_type": "markdown",
      "source": [
        "# Задача 2: Разметка датасета с HF Datasets"
      ],
      "metadata": {
        "id": "qSxo269_JcYa"
      }
    },
    {
      "cell_type": "markdown",
      "source": [
        "# Критерии оценивания:\n",
        "\n",
        "1. Выделены все части речи (2 балла)\n",
        "2. Выделены все именованные сущности (2 балла)\n",
        "3. Выделены все синтаксические зависимости (2 балла)\n",
        "4. Результат оформлен в виде датафрейма (2 балла)\n",
        "5. Датасет опубликован на HF Datasets (2 балла)\n",
        "\n",
        "**В комментариях к блокноту нужно обязательно добавить ссылку на ваш датасет**"
      ],
      "metadata": {
        "id": "6BfU7GQJJBZM"
      }
    },
    {
      "cell_type": "markdown",
      "source": [
        "**Шаг 1**: Установка необходимых библиотек и загрузка текста"
      ],
      "metadata": {
        "id": "SCU1CZlYJrCJ"
      }
    },
    {
      "cell_type": "code",
      "source": [
        "# Устанавливаем необходимые библиотеки\n",
        "!pip install datasets nltk spacy -q"
      ],
      "metadata": {
        "id": "z6HJTaEDKWNV"
      },
      "execution_count": null,
      "outputs": []
    },
    {
      "cell_type": "code",
      "source": [
        "# Импорт наших инструментов\n",
        "from datasets import Dataset\n",
        "import pandas as pd\n",
        "import spacy\n",
        "import nltk\n",
        "from nltk import pos_tag, sent_tokenize, word_tokenize, download\n",
        "from spacy import displacy"
      ],
      "metadata": {
        "id": "LeDptHCyLpzY"
      },
      "execution_count": null,
      "outputs": []
    },
    {
      "cell_type": "code",
      "source": [
        "# Загружаем Spacy\n",
        "!python -m spacy download en_core_web_sm\n",
        "nlp = spacy.load(\"en_core_web_sm\")"
      ],
      "metadata": {
        "id": "MwlP7H5eLi1S"
      },
      "execution_count": null,
      "outputs": []
    },
    {
      "cell_type": "code",
      "source": [
        "# Подключаем ресурсы NLTK\n",
        "nltk.download('punkt')\n",
        "nltk.download('averaged_perceptron_tagger')\n",
        "nltk.download('punkt_tab')\n",
        "nltk.download('averaged_perceptron_tagger_eng')"
      ],
      "metadata": {
        "id": "ZqIgA5oiLead"
      },
      "execution_count": null,
      "outputs": []
    },
    {
      "cell_type": "markdown",
      "source": [
        "**Задание**: загрузите текст для разметки\n",
        "\n",
        "**Опции**:\n",
        "1. использовать свой текст\n",
        "2. использовать текст из задания 1: `https://github.com/vifirsanova/compling/blob/main/tasks/task1/data.txt`"
      ],
      "metadata": {
        "id": "FmiXzHhxK3M5"
      }
    },
    {
      "cell_type": "code",
      "source": [
        "### ваш код здесь ###\n",
        "!wget https://raw.githubusercontent.com/vifirsanova/compling/refs/heads/main/tasks/task1/data.txt"
      ],
      "metadata": {
        "id": "XtHdKkpWMDJM"
      },
      "execution_count": null,
      "outputs": []
    },
    {
      "cell_type": "markdown",
      "source": [
        "**Шаг 2**: Выделение частей речи с использованием NLTK"
      ],
      "metadata": {
        "id": "Xu8OPlhdMGmu"
      }
    },
    {
      "cell_type": "code",
      "source": [
        "# Дана функция для выделения частей речи с помощью NLTK\n",
        "def nltk_pos_tagging(text):\n",
        "    tokens = word_tokenize(text)\n",
        "    return pos_tag(tokens)"
      ],
      "metadata": {
        "id": "WVyf6LKLMTTG"
      },
      "execution_count": null,
      "outputs": []
    },
    {
      "cell_type": "markdown",
      "source": [
        "**Задание**: самостоятельно найдите документацию NLTK и вставьте в свое решение ссылки на описание работы с инструментами `word_tokenize` и `pos_tag` из официальной документации NLTK\n",
        "\n",
        "Ссылки:\n",
        "\n",
        "1. https://www.nltk.org/api/nltk.tokenize.html#nltk.tokenize.word_tokenize\n",
        "2. https://www.nltk.org/api/nltk.tag.html#nltk.tag.pos_tag"
      ],
      "metadata": {
        "id": "4znJ_8wdMfAM"
      }
    },
    {
      "cell_type": "markdown",
      "source": [
        "**Задание**: произведите частеречную разметку ваших данных с помощью функции `nltk_pos_tagging`"
      ],
      "metadata": {
        "id": "akTITkmJM-V8"
      }
    },
    {
      "cell_type": "code",
      "source": [
        "with open('data.txt', 'r', encoding='UTF-8') as file:\n",
        "  text = file.read()\n",
        "texts = sent_tokenize(text)\n",
        "tagged_words = [nltk_pos_tagging(text) for text in texts]\n",
        "tagged_words"
      ],
      "metadata": {
        "id": "TYZA33p8Msgw"
      },
      "execution_count": null,
      "outputs": []
    },
    {
      "cell_type": "code",
      "source": [
        "\"\"\"\n",
        "\n",
        "ОБРАЗЕЦ ОЖИДАЕМОГО РЕЗУЛЬТАТА ВЫДАЧИ:\n",
        "\n",
        "- ПРОВЕРЬТЕ ВАШ РЕЗУЛЬТАТ,\n",
        "- СРАВНИТЕ ЕГО С ОБРАЗЦОМ ПЕРЕД СДАЧЕЙ РАБОТЫ\n",
        "\n",
        "\"\"\""
      ],
      "metadata": {
        "id": "ybE1C7E5NKxo"
      },
      "execution_count": null,
      "outputs": []
    },
    {
      "cell_type": "markdown",
      "source": [
        "**Шаг 3**: разметка с помощью spacy\n",
        "\n",
        "Переключимся на другую бибилиотеку!\n",
        "\n",
        "**Задание**: допишите функцию для разметки частей речи, именованных сущностей и синтаксическх зависимостей"
      ],
      "metadata": {
        "id": "37iv5y2bN16w"
      }
    },
    {
      "cell_type": "code",
      "source": [
        "def spacy_annotation(text):\n",
        "    doc = nlp(text) ## примените метод nlp, чтобы произвести разбор текста ##\n",
        "\n",
        "    ## напишите цикл для выделения частей речи с помощью spacy ##\n",
        "    ## в качестве подсказки используйте наши практические работы ##\n",
        "    ## вы должны создать список пар: (токен, частеречный тег) ##\n",
        "    pos_tags = [(token.text, token.pos_) for token in doc]## создаем список пар: (токена token.text, частеречный тег token.pos_) ##\n",
        "\n",
        "    ## напишите цикл для выделения именованных сущностей с помощью spacy ##\n",
        "    ## в качестве подсказки используйте наши практические работы ##\n",
        "    ## вы должны создать список пар: (текст, тег именованной сущности) ##\n",
        "    named_entities = [(ent.text, ent.label_) for ent in doc.ents] ## создаем список пар: (токена ent.text, частеречный тег ent.label_) для всех сущностей в списке doc.ents ##\n",
        "\n",
        "    # как происходит выделение синтаксических зависимостей в spacy?\n",
        "    # каждый токен связывается с его \"головой\" (head), что формирует синтаксическую структуру.\n",
        "    # например, \"studying\" (основной глагол) может быть связан с \"John\" как субъект (nsubj)\n",
        "\n",
        "    dependencies = [(token.text, token.dep_, token.head.text) for token in doc]\n",
        "\n",
        "    # сформируем словарь, где соберем все результаты нашей разметки\n",
        "    return {\n",
        "        \"pos_tags\": pos_tags,\n",
        "        \"named_entities\": named_entities,\n",
        "        \"dependencies\": dependencies\n",
        "        ## создайте здесь словарь с тремя ключами \"pos_tags\", \"named_entities\" и \"dependencies\" ##\n",
        "        ## запишите в него результаты вашей разметки ##\n",
        "    }"
      ],
      "metadata": {
        "id": "E-dLCEj1OCj0"
      },
      "execution_count": null,
      "outputs": []
    },
    {
      "cell_type": "code",
      "source": [
        "# Выполнеяем разметку текста:\n",
        "# создайте цикл для разметки вашего текста с помощью функции spacy_annotation\n",
        "spacy_results = [spacy_annotation(text) for text in texts]## здесь будет результат вашей разметки ##"
      ],
      "metadata": {
        "id": "jzSkC6faQg9h"
      },
      "execution_count": null,
      "outputs": []
    },
    {
      "cell_type": "code",
      "source": [
        "spacy_results"
      ],
      "metadata": {
        "id": "adRVuXlhu0AN"
      },
      "execution_count": null,
      "outputs": []
    },
    {
      "cell_type": "code",
      "source": [
        "\"\"\"\n",
        "\n",
        "ОБРАЗЕЦ ОЖИДАЕМОГО РЕЗУЛЬТАТА ВЫДАЧИ:\n",
        "\n",
        "- ПРОВЕРЬТЕ ВАШ РЕЗУЛЬТАТ,\n",
        "- СРАВНИТЕ ЕГО С ОБРАЗЦОМ ПЕРЕД СДАЧЕЙ РАБОТЫ\n",
        "\n",
        "\"\"\""
      ],
      "metadata": {
        "id": "IMYu3tGLQtTg"
      },
      "execution_count": null,
      "outputs": []
    },
    {
      "cell_type": "markdown",
      "source": [
        "**Задание**: найдите документацию spacy, добавьте сюда ссылку на объяснение работы token.text, token.dep_.\n",
        "\n",
        "Ссылка:\n",
        "\n",
        "1. https://spacy.io/api/dependencyparser#assigned-attributes"
      ],
      "metadata": {
        "id": "P1be14LAPp_p"
      }
    },
    {
      "cell_type": "markdown",
      "source": [
        "**Шаг 4**: Преобразование результатов в датафрейм"
      ],
      "metadata": {
        "id": "S6cMiTfIOBuV"
      }
    },
    {
      "cell_type": "code",
      "source": [
        "data = []## создайте пустой список ##\n",
        "import pandas as pd\n",
        "# начинаем итерацию по данным\n",
        "# используем enumerate для итерирования по индексам\n",
        "for i, text in enumerate(texts):\n",
        "    # добавляем в data все, что мы разметили ранее\n",
        "    data.append({\n",
        "        \"text\": texts[i], ## переменная, в которой хранится ваш текст ##\n",
        "        \"nltk_pos\": tagged_words[i],               # Части речи с NLTK\n",
        "        \"spacy_pos\": spacy_results[i][\"pos_tags\"],     # Части речи с SpaCy\n",
        "        \"named_entities\": spacy_results[i][\"named_entities\"],  # Именованные сущности\n",
        "        \"dependencies\": spacy_results[i][\"dependencies\"]  # Синтаксические зависимости\n",
        "    })\n",
        "\n",
        "df = pd.DataFrame(data)## создайте датафрейм с data ##"
      ],
      "metadata": {
        "id": "hFXV7v6ZQ33U"
      },
      "execution_count": null,
      "outputs": []
    },
    {
      "cell_type": "code",
      "source": [
        "\"\"\"\n",
        "\n",
        "ОБРАЗЕЦ ОЖИДАЕМОГО РЕЗУЛЬТАТА ВЫДАЧИ:\n",
        "\n",
        "- ПРОВЕРЬТЕ ВАШ РЕЗУЛЬТАТ,\n",
        "- СРАВНИТЕ ЕГО С ОБРАЗЦОМ ПЕРЕД СДАЧЕЙ РАБОТЫ\n",
        "\n",
        "\"\"\""
      ],
      "metadata": {
        "id": "VoRLkI7DRAoC"
      },
      "execution_count": null,
      "outputs": []
    },
    {
      "cell_type": "markdown",
      "source": [
        "**Шаг 5**: визуализация результатов"
      ],
      "metadata": {
        "id": "wmY77WJhRjkX"
      }
    },
    {
      "cell_type": "code",
      "execution_count": null,
      "metadata": {
        "colab": {
          "base_uri": "https://localhost:8080/",
          "height": 359
        },
        "id": "BjY98Gl7AvjD",
        "outputId": "564f4ca9-0949-4549-e18b-bcdc61ed34e5"
      },
      "outputs": [
        {
          "output_type": "display_data",
          "data": {
            "text/plain": [
              "<IPython.core.display.HTML object>"
            ],
            "text/html": [
              "<span class=\"tex2jax_ignore\"><svg xmlns=\"http://www.w3.org/2000/svg\" xmlns:xlink=\"http://www.w3.org/1999/xlink\" xml:lang=\"en\" id=\"fa38385d9e7f4e48939acea61a1f2cbb-0\" class=\"displacy\" width=\"2450\" height=\"317.0\" direction=\"ltr\" style=\"max-width: none; height: 317.0px; color: #000000; background: #ffffff; font-family: Arial; direction: ltr\">\n",
              "<text class=\"displacy-token\" fill=\"currentColor\" text-anchor=\"middle\" y=\"227.0\">\n",
              "    <tspan class=\"displacy-word\" fill=\"currentColor\" x=\"50\">By</tspan>\n",
              "    <tspan class=\"displacy-tag\" dy=\"2em\" fill=\"currentColor\" x=\"50\">ADP</tspan>\n",
              "</text>\n",
              "\n",
              "<text class=\"displacy-token\" fill=\"currentColor\" text-anchor=\"middle\" y=\"227.0\">\n",
              "    <tspan class=\"displacy-word\" fill=\"currentColor\" x=\"170\">the</tspan>\n",
              "    <tspan class=\"displacy-tag\" dy=\"2em\" fill=\"currentColor\" x=\"170\">DET</tspan>\n",
              "</text>\n",
              "\n",
              "<text class=\"displacy-token\" fill=\"currentColor\" text-anchor=\"middle\" y=\"227.0\">\n",
              "    <tspan class=\"displacy-word\" fill=\"currentColor\" x=\"290\">end</tspan>\n",
              "    <tspan class=\"displacy-tag\" dy=\"2em\" fill=\"currentColor\" x=\"290\">NOUN</tspan>\n",
              "</text>\n",
              "\n",
              "<text class=\"displacy-token\" fill=\"currentColor\" text-anchor=\"middle\" y=\"227.0\">\n",
              "    <tspan class=\"displacy-word\" fill=\"currentColor\" x=\"410\">of</tspan>\n",
              "    <tspan class=\"displacy-tag\" dy=\"2em\" fill=\"currentColor\" x=\"410\">ADP</tspan>\n",
              "</text>\n",
              "\n",
              "<text class=\"displacy-token\" fill=\"currentColor\" text-anchor=\"middle\" y=\"227.0\">\n",
              "    <tspan class=\"displacy-word\" fill=\"currentColor\" x=\"530\">this</tspan>\n",
              "    <tspan class=\"displacy-tag\" dy=\"2em\" fill=\"currentColor\" x=\"530\">DET</tspan>\n",
              "</text>\n",
              "\n",
              "<text class=\"displacy-token\" fill=\"currentColor\" text-anchor=\"middle\" y=\"227.0\">\n",
              "    <tspan class=\"displacy-word\" fill=\"currentColor\" x=\"650\">article,</tspan>\n",
              "    <tspan class=\"displacy-tag\" dy=\"2em\" fill=\"currentColor\" x=\"650\">NOUN</tspan>\n",
              "</text>\n",
              "\n",
              "<text class=\"displacy-token\" fill=\"currentColor\" text-anchor=\"middle\" y=\"227.0\">\n",
              "    <tspan class=\"displacy-word\" fill=\"currentColor\" x=\"770\">you</tspan>\n",
              "    <tspan class=\"displacy-tag\" dy=\"2em\" fill=\"currentColor\" x=\"770\">PRON</tspan>\n",
              "</text>\n",
              "\n",
              "<text class=\"displacy-token\" fill=\"currentColor\" text-anchor=\"middle\" y=\"227.0\">\n",
              "    <tspan class=\"displacy-word\" fill=\"currentColor\" x=\"890\">'ll</tspan>\n",
              "    <tspan class=\"displacy-tag\" dy=\"2em\" fill=\"currentColor\" x=\"890\">AUX</tspan>\n",
              "</text>\n",
              "\n",
              "<text class=\"displacy-token\" fill=\"currentColor\" text-anchor=\"middle\" y=\"227.0\">\n",
              "    <tspan class=\"displacy-word\" fill=\"currentColor\" x=\"1010\">have</tspan>\n",
              "    <tspan class=\"displacy-tag\" dy=\"2em\" fill=\"currentColor\" x=\"1010\">VERB</tspan>\n",
              "</text>\n",
              "\n",
              "<text class=\"displacy-token\" fill=\"currentColor\" text-anchor=\"middle\" y=\"227.0\">\n",
              "    <tspan class=\"displacy-word\" fill=\"currentColor\" x=\"1130\">a</tspan>\n",
              "    <tspan class=\"displacy-tag\" dy=\"2em\" fill=\"currentColor\" x=\"1130\">DET</tspan>\n",
              "</text>\n",
              "\n",
              "<text class=\"displacy-token\" fill=\"currentColor\" text-anchor=\"middle\" y=\"227.0\">\n",
              "    <tspan class=\"displacy-word\" fill=\"currentColor\" x=\"1250\">clear</tspan>\n",
              "    <tspan class=\"displacy-tag\" dy=\"2em\" fill=\"currentColor\" x=\"1250\">ADJ</tspan>\n",
              "</text>\n",
              "\n",
              "<text class=\"displacy-token\" fill=\"currentColor\" text-anchor=\"middle\" y=\"227.0\">\n",
              "    <tspan class=\"displacy-word\" fill=\"currentColor\" x=\"1370\">understanding</tspan>\n",
              "    <tspan class=\"displacy-tag\" dy=\"2em\" fill=\"currentColor\" x=\"1370\">NOUN</tspan>\n",
              "</text>\n",
              "\n",
              "<text class=\"displacy-token\" fill=\"currentColor\" text-anchor=\"middle\" y=\"227.0\">\n",
              "    <tspan class=\"displacy-word\" fill=\"currentColor\" x=\"1490\">of</tspan>\n",
              "    <tspan class=\"displacy-tag\" dy=\"2em\" fill=\"currentColor\" x=\"1490\">ADP</tspan>\n",
              "</text>\n",
              "\n",
              "<text class=\"displacy-token\" fill=\"currentColor\" text-anchor=\"middle\" y=\"227.0\">\n",
              "    <tspan class=\"displacy-word\" fill=\"currentColor\" x=\"1610\">how</tspan>\n",
              "    <tspan class=\"displacy-tag\" dy=\"2em\" fill=\"currentColor\" x=\"1610\">SCONJ</tspan>\n",
              "</text>\n",
              "\n",
              "<text class=\"displacy-token\" fill=\"currentColor\" text-anchor=\"middle\" y=\"227.0\">\n",
              "    <tspan class=\"displacy-word\" fill=\"currentColor\" x=\"1730\">to</tspan>\n",
              "    <tspan class=\"displacy-tag\" dy=\"2em\" fill=\"currentColor\" x=\"1730\">PART</tspan>\n",
              "</text>\n",
              "\n",
              "<text class=\"displacy-token\" fill=\"currentColor\" text-anchor=\"middle\" y=\"227.0\">\n",
              "    <tspan class=\"displacy-word\" fill=\"currentColor\" x=\"1850\">implement</tspan>\n",
              "    <tspan class=\"displacy-tag\" dy=\"2em\" fill=\"currentColor\" x=\"1850\">VERB</tspan>\n",
              "</text>\n",
              "\n",
              "<text class=\"displacy-token\" fill=\"currentColor\" text-anchor=\"middle\" y=\"227.0\">\n",
              "    <tspan class=\"displacy-word\" fill=\"currentColor\" x=\"1970\">this</tspan>\n",
              "    <tspan class=\"displacy-tag\" dy=\"2em\" fill=\"currentColor\" x=\"1970\">PRON</tspan>\n",
              "</text>\n",
              "\n",
              "<text class=\"displacy-token\" fill=\"currentColor\" text-anchor=\"middle\" y=\"227.0\">\n",
              "    <tspan class=\"displacy-word\" fill=\"currentColor\" x=\"2090\">in</tspan>\n",
              "    <tspan class=\"displacy-tag\" dy=\"2em\" fill=\"currentColor\" x=\"2090\">ADP</tspan>\n",
              "</text>\n",
              "\n",
              "<text class=\"displacy-token\" fill=\"currentColor\" text-anchor=\"middle\" y=\"227.0\">\n",
              "    <tspan class=\"displacy-word\" fill=\"currentColor\" x=\"2210\">your</tspan>\n",
              "    <tspan class=\"displacy-tag\" dy=\"2em\" fill=\"currentColor\" x=\"2210\">PRON</tspan>\n",
              "</text>\n",
              "\n",
              "<text class=\"displacy-token\" fill=\"currentColor\" text-anchor=\"middle\" y=\"227.0\">\n",
              "    <tspan class=\"displacy-word\" fill=\"currentColor\" x=\"2330\">projects.</tspan>\n",
              "    <tspan class=\"displacy-tag\" dy=\"2em\" fill=\"currentColor\" x=\"2330\">NOUN</tspan>\n",
              "</text>\n",
              "\n",
              "<g class=\"displacy-arrow\">\n",
              "    <path class=\"displacy-arc\" id=\"arrow-fa38385d9e7f4e48939acea61a1f2cbb-0-0\" stroke-width=\"2px\" d=\"M70,182.0 C70,2.0 1010.0,2.0 1010.0,182.0\" fill=\"none\" stroke=\"currentColor\"/>\n",
              "    <text dy=\"1.25em\" style=\"font-size: 0.8em; letter-spacing: 1px\">\n",
              "        <textPath xlink:href=\"#arrow-fa38385d9e7f4e48939acea61a1f2cbb-0-0\" class=\"displacy-label\" startOffset=\"50%\" side=\"left\" fill=\"currentColor\" text-anchor=\"middle\">prep</textPath>\n",
              "    </text>\n",
              "    <path class=\"displacy-arrowhead\" d=\"M70,184.0 L62,172.0 78,172.0\" fill=\"currentColor\"/>\n",
              "</g>\n",
              "\n",
              "<g class=\"displacy-arrow\">\n",
              "    <path class=\"displacy-arc\" id=\"arrow-fa38385d9e7f4e48939acea61a1f2cbb-0-1\" stroke-width=\"2px\" d=\"M190,182.0 C190,122.0 280.0,122.0 280.0,182.0\" fill=\"none\" stroke=\"currentColor\"/>\n",
              "    <text dy=\"1.25em\" style=\"font-size: 0.8em; letter-spacing: 1px\">\n",
              "        <textPath xlink:href=\"#arrow-fa38385d9e7f4e48939acea61a1f2cbb-0-1\" class=\"displacy-label\" startOffset=\"50%\" side=\"left\" fill=\"currentColor\" text-anchor=\"middle\">det</textPath>\n",
              "    </text>\n",
              "    <path class=\"displacy-arrowhead\" d=\"M190,184.0 L182,172.0 198,172.0\" fill=\"currentColor\"/>\n",
              "</g>\n",
              "\n",
              "<g class=\"displacy-arrow\">\n",
              "    <path class=\"displacy-arc\" id=\"arrow-fa38385d9e7f4e48939acea61a1f2cbb-0-2\" stroke-width=\"2px\" d=\"M70,182.0 C70,62.0 285.0,62.0 285.0,182.0\" fill=\"none\" stroke=\"currentColor\"/>\n",
              "    <text dy=\"1.25em\" style=\"font-size: 0.8em; letter-spacing: 1px\">\n",
              "        <textPath xlink:href=\"#arrow-fa38385d9e7f4e48939acea61a1f2cbb-0-2\" class=\"displacy-label\" startOffset=\"50%\" side=\"left\" fill=\"currentColor\" text-anchor=\"middle\">pobj</textPath>\n",
              "    </text>\n",
              "    <path class=\"displacy-arrowhead\" d=\"M285.0,184.0 L293.0,172.0 277.0,172.0\" fill=\"currentColor\"/>\n",
              "</g>\n",
              "\n",
              "<g class=\"displacy-arrow\">\n",
              "    <path class=\"displacy-arc\" id=\"arrow-fa38385d9e7f4e48939acea61a1f2cbb-0-3\" stroke-width=\"2px\" d=\"M310,182.0 C310,122.0 400.0,122.0 400.0,182.0\" fill=\"none\" stroke=\"currentColor\"/>\n",
              "    <text dy=\"1.25em\" style=\"font-size: 0.8em; letter-spacing: 1px\">\n",
              "        <textPath xlink:href=\"#arrow-fa38385d9e7f4e48939acea61a1f2cbb-0-3\" class=\"displacy-label\" startOffset=\"50%\" side=\"left\" fill=\"currentColor\" text-anchor=\"middle\">prep</textPath>\n",
              "    </text>\n",
              "    <path class=\"displacy-arrowhead\" d=\"M400.0,184.0 L408.0,172.0 392.0,172.0\" fill=\"currentColor\"/>\n",
              "</g>\n",
              "\n",
              "<g class=\"displacy-arrow\">\n",
              "    <path class=\"displacy-arc\" id=\"arrow-fa38385d9e7f4e48939acea61a1f2cbb-0-4\" stroke-width=\"2px\" d=\"M550,182.0 C550,122.0 640.0,122.0 640.0,182.0\" fill=\"none\" stroke=\"currentColor\"/>\n",
              "    <text dy=\"1.25em\" style=\"font-size: 0.8em; letter-spacing: 1px\">\n",
              "        <textPath xlink:href=\"#arrow-fa38385d9e7f4e48939acea61a1f2cbb-0-4\" class=\"displacy-label\" startOffset=\"50%\" side=\"left\" fill=\"currentColor\" text-anchor=\"middle\">det</textPath>\n",
              "    </text>\n",
              "    <path class=\"displacy-arrowhead\" d=\"M550,184.0 L542,172.0 558,172.0\" fill=\"currentColor\"/>\n",
              "</g>\n",
              "\n",
              "<g class=\"displacy-arrow\">\n",
              "    <path class=\"displacy-arc\" id=\"arrow-fa38385d9e7f4e48939acea61a1f2cbb-0-5\" stroke-width=\"2px\" d=\"M430,182.0 C430,62.0 645.0,62.0 645.0,182.0\" fill=\"none\" stroke=\"currentColor\"/>\n",
              "    <text dy=\"1.25em\" style=\"font-size: 0.8em; letter-spacing: 1px\">\n",
              "        <textPath xlink:href=\"#arrow-fa38385d9e7f4e48939acea61a1f2cbb-0-5\" class=\"displacy-label\" startOffset=\"50%\" side=\"left\" fill=\"currentColor\" text-anchor=\"middle\">pobj</textPath>\n",
              "    </text>\n",
              "    <path class=\"displacy-arrowhead\" d=\"M645.0,184.0 L653.0,172.0 637.0,172.0\" fill=\"currentColor\"/>\n",
              "</g>\n",
              "\n",
              "<g class=\"displacy-arrow\">\n",
              "    <path class=\"displacy-arc\" id=\"arrow-fa38385d9e7f4e48939acea61a1f2cbb-0-6\" stroke-width=\"2px\" d=\"M790,182.0 C790,62.0 1005.0,62.0 1005.0,182.0\" fill=\"none\" stroke=\"currentColor\"/>\n",
              "    <text dy=\"1.25em\" style=\"font-size: 0.8em; letter-spacing: 1px\">\n",
              "        <textPath xlink:href=\"#arrow-fa38385d9e7f4e48939acea61a1f2cbb-0-6\" class=\"displacy-label\" startOffset=\"50%\" side=\"left\" fill=\"currentColor\" text-anchor=\"middle\">nsubj</textPath>\n",
              "    </text>\n",
              "    <path class=\"displacy-arrowhead\" d=\"M790,184.0 L782,172.0 798,172.0\" fill=\"currentColor\"/>\n",
              "</g>\n",
              "\n",
              "<g class=\"displacy-arrow\">\n",
              "    <path class=\"displacy-arc\" id=\"arrow-fa38385d9e7f4e48939acea61a1f2cbb-0-7\" stroke-width=\"2px\" d=\"M910,182.0 C910,122.0 1000.0,122.0 1000.0,182.0\" fill=\"none\" stroke=\"currentColor\"/>\n",
              "    <text dy=\"1.25em\" style=\"font-size: 0.8em; letter-spacing: 1px\">\n",
              "        <textPath xlink:href=\"#arrow-fa38385d9e7f4e48939acea61a1f2cbb-0-7\" class=\"displacy-label\" startOffset=\"50%\" side=\"left\" fill=\"currentColor\" text-anchor=\"middle\">aux</textPath>\n",
              "    </text>\n",
              "    <path class=\"displacy-arrowhead\" d=\"M910,184.0 L902,172.0 918,172.0\" fill=\"currentColor\"/>\n",
              "</g>\n",
              "\n",
              "<g class=\"displacy-arrow\">\n",
              "    <path class=\"displacy-arc\" id=\"arrow-fa38385d9e7f4e48939acea61a1f2cbb-0-8\" stroke-width=\"2px\" d=\"M1150,182.0 C1150,62.0 1365.0,62.0 1365.0,182.0\" fill=\"none\" stroke=\"currentColor\"/>\n",
              "    <text dy=\"1.25em\" style=\"font-size: 0.8em; letter-spacing: 1px\">\n",
              "        <textPath xlink:href=\"#arrow-fa38385d9e7f4e48939acea61a1f2cbb-0-8\" class=\"displacy-label\" startOffset=\"50%\" side=\"left\" fill=\"currentColor\" text-anchor=\"middle\">det</textPath>\n",
              "    </text>\n",
              "    <path class=\"displacy-arrowhead\" d=\"M1150,184.0 L1142,172.0 1158,172.0\" fill=\"currentColor\"/>\n",
              "</g>\n",
              "\n",
              "<g class=\"displacy-arrow\">\n",
              "    <path class=\"displacy-arc\" id=\"arrow-fa38385d9e7f4e48939acea61a1f2cbb-0-9\" stroke-width=\"2px\" d=\"M1270,182.0 C1270,122.0 1360.0,122.0 1360.0,182.0\" fill=\"none\" stroke=\"currentColor\"/>\n",
              "    <text dy=\"1.25em\" style=\"font-size: 0.8em; letter-spacing: 1px\">\n",
              "        <textPath xlink:href=\"#arrow-fa38385d9e7f4e48939acea61a1f2cbb-0-9\" class=\"displacy-label\" startOffset=\"50%\" side=\"left\" fill=\"currentColor\" text-anchor=\"middle\">amod</textPath>\n",
              "    </text>\n",
              "    <path class=\"displacy-arrowhead\" d=\"M1270,184.0 L1262,172.0 1278,172.0\" fill=\"currentColor\"/>\n",
              "</g>\n",
              "\n",
              "<g class=\"displacy-arrow\">\n",
              "    <path class=\"displacy-arc\" id=\"arrow-fa38385d9e7f4e48939acea61a1f2cbb-0-10\" stroke-width=\"2px\" d=\"M1030,182.0 C1030,2.0 1370.0,2.0 1370.0,182.0\" fill=\"none\" stroke=\"currentColor\"/>\n",
              "    <text dy=\"1.25em\" style=\"font-size: 0.8em; letter-spacing: 1px\">\n",
              "        <textPath xlink:href=\"#arrow-fa38385d9e7f4e48939acea61a1f2cbb-0-10\" class=\"displacy-label\" startOffset=\"50%\" side=\"left\" fill=\"currentColor\" text-anchor=\"middle\">dobj</textPath>\n",
              "    </text>\n",
              "    <path class=\"displacy-arrowhead\" d=\"M1370.0,184.0 L1378.0,172.0 1362.0,172.0\" fill=\"currentColor\"/>\n",
              "</g>\n",
              "\n",
              "<g class=\"displacy-arrow\">\n",
              "    <path class=\"displacy-arc\" id=\"arrow-fa38385d9e7f4e48939acea61a1f2cbb-0-11\" stroke-width=\"2px\" d=\"M1390,182.0 C1390,122.0 1480.0,122.0 1480.0,182.0\" fill=\"none\" stroke=\"currentColor\"/>\n",
              "    <text dy=\"1.25em\" style=\"font-size: 0.8em; letter-spacing: 1px\">\n",
              "        <textPath xlink:href=\"#arrow-fa38385d9e7f4e48939acea61a1f2cbb-0-11\" class=\"displacy-label\" startOffset=\"50%\" side=\"left\" fill=\"currentColor\" text-anchor=\"middle\">prep</textPath>\n",
              "    </text>\n",
              "    <path class=\"displacy-arrowhead\" d=\"M1480.0,184.0 L1488.0,172.0 1472.0,172.0\" fill=\"currentColor\"/>\n",
              "</g>\n",
              "\n",
              "<g class=\"displacy-arrow\">\n",
              "    <path class=\"displacy-arc\" id=\"arrow-fa38385d9e7f4e48939acea61a1f2cbb-0-12\" stroke-width=\"2px\" d=\"M1630,182.0 C1630,62.0 1845.0,62.0 1845.0,182.0\" fill=\"none\" stroke=\"currentColor\"/>\n",
              "    <text dy=\"1.25em\" style=\"font-size: 0.8em; letter-spacing: 1px\">\n",
              "        <textPath xlink:href=\"#arrow-fa38385d9e7f4e48939acea61a1f2cbb-0-12\" class=\"displacy-label\" startOffset=\"50%\" side=\"left\" fill=\"currentColor\" text-anchor=\"middle\">advmod</textPath>\n",
              "    </text>\n",
              "    <path class=\"displacy-arrowhead\" d=\"M1630,184.0 L1622,172.0 1638,172.0\" fill=\"currentColor\"/>\n",
              "</g>\n",
              "\n",
              "<g class=\"displacy-arrow\">\n",
              "    <path class=\"displacy-arc\" id=\"arrow-fa38385d9e7f4e48939acea61a1f2cbb-0-13\" stroke-width=\"2px\" d=\"M1750,182.0 C1750,122.0 1840.0,122.0 1840.0,182.0\" fill=\"none\" stroke=\"currentColor\"/>\n",
              "    <text dy=\"1.25em\" style=\"font-size: 0.8em; letter-spacing: 1px\">\n",
              "        <textPath xlink:href=\"#arrow-fa38385d9e7f4e48939acea61a1f2cbb-0-13\" class=\"displacy-label\" startOffset=\"50%\" side=\"left\" fill=\"currentColor\" text-anchor=\"middle\">aux</textPath>\n",
              "    </text>\n",
              "    <path class=\"displacy-arrowhead\" d=\"M1750,184.0 L1742,172.0 1758,172.0\" fill=\"currentColor\"/>\n",
              "</g>\n",
              "\n",
              "<g class=\"displacy-arrow\">\n",
              "    <path class=\"displacy-arc\" id=\"arrow-fa38385d9e7f4e48939acea61a1f2cbb-0-14\" stroke-width=\"2px\" d=\"M1510,182.0 C1510,2.0 1850.0,2.0 1850.0,182.0\" fill=\"none\" stroke=\"currentColor\"/>\n",
              "    <text dy=\"1.25em\" style=\"font-size: 0.8em; letter-spacing: 1px\">\n",
              "        <textPath xlink:href=\"#arrow-fa38385d9e7f4e48939acea61a1f2cbb-0-14\" class=\"displacy-label\" startOffset=\"50%\" side=\"left\" fill=\"currentColor\" text-anchor=\"middle\">pcomp</textPath>\n",
              "    </text>\n",
              "    <path class=\"displacy-arrowhead\" d=\"M1850.0,184.0 L1858.0,172.0 1842.0,172.0\" fill=\"currentColor\"/>\n",
              "</g>\n",
              "\n",
              "<g class=\"displacy-arrow\">\n",
              "    <path class=\"displacy-arc\" id=\"arrow-fa38385d9e7f4e48939acea61a1f2cbb-0-15\" stroke-width=\"2px\" d=\"M1870,182.0 C1870,122.0 1960.0,122.0 1960.0,182.0\" fill=\"none\" stroke=\"currentColor\"/>\n",
              "    <text dy=\"1.25em\" style=\"font-size: 0.8em; letter-spacing: 1px\">\n",
              "        <textPath xlink:href=\"#arrow-fa38385d9e7f4e48939acea61a1f2cbb-0-15\" class=\"displacy-label\" startOffset=\"50%\" side=\"left\" fill=\"currentColor\" text-anchor=\"middle\">dobj</textPath>\n",
              "    </text>\n",
              "    <path class=\"displacy-arrowhead\" d=\"M1960.0,184.0 L1968.0,172.0 1952.0,172.0\" fill=\"currentColor\"/>\n",
              "</g>\n",
              "\n",
              "<g class=\"displacy-arrow\">\n",
              "    <path class=\"displacy-arc\" id=\"arrow-fa38385d9e7f4e48939acea61a1f2cbb-0-16\" stroke-width=\"2px\" d=\"M1870,182.0 C1870,62.0 2085.0,62.0 2085.0,182.0\" fill=\"none\" stroke=\"currentColor\"/>\n",
              "    <text dy=\"1.25em\" style=\"font-size: 0.8em; letter-spacing: 1px\">\n",
              "        <textPath xlink:href=\"#arrow-fa38385d9e7f4e48939acea61a1f2cbb-0-16\" class=\"displacy-label\" startOffset=\"50%\" side=\"left\" fill=\"currentColor\" text-anchor=\"middle\">prep</textPath>\n",
              "    </text>\n",
              "    <path class=\"displacy-arrowhead\" d=\"M2085.0,184.0 L2093.0,172.0 2077.0,172.0\" fill=\"currentColor\"/>\n",
              "</g>\n",
              "\n",
              "<g class=\"displacy-arrow\">\n",
              "    <path class=\"displacy-arc\" id=\"arrow-fa38385d9e7f4e48939acea61a1f2cbb-0-17\" stroke-width=\"2px\" d=\"M2230,182.0 C2230,122.0 2320.0,122.0 2320.0,182.0\" fill=\"none\" stroke=\"currentColor\"/>\n",
              "    <text dy=\"1.25em\" style=\"font-size: 0.8em; letter-spacing: 1px\">\n",
              "        <textPath xlink:href=\"#arrow-fa38385d9e7f4e48939acea61a1f2cbb-0-17\" class=\"displacy-label\" startOffset=\"50%\" side=\"left\" fill=\"currentColor\" text-anchor=\"middle\">poss</textPath>\n",
              "    </text>\n",
              "    <path class=\"displacy-arrowhead\" d=\"M2230,184.0 L2222,172.0 2238,172.0\" fill=\"currentColor\"/>\n",
              "</g>\n",
              "\n",
              "<g class=\"displacy-arrow\">\n",
              "    <path class=\"displacy-arc\" id=\"arrow-fa38385d9e7f4e48939acea61a1f2cbb-0-18\" stroke-width=\"2px\" d=\"M2110,182.0 C2110,62.0 2325.0,62.0 2325.0,182.0\" fill=\"none\" stroke=\"currentColor\"/>\n",
              "    <text dy=\"1.25em\" style=\"font-size: 0.8em; letter-spacing: 1px\">\n",
              "        <textPath xlink:href=\"#arrow-fa38385d9e7f4e48939acea61a1f2cbb-0-18\" class=\"displacy-label\" startOffset=\"50%\" side=\"left\" fill=\"currentColor\" text-anchor=\"middle\">pobj</textPath>\n",
              "    </text>\n",
              "    <path class=\"displacy-arrowhead\" d=\"M2325.0,184.0 L2333.0,172.0 2317.0,172.0\" fill=\"currentColor\"/>\n",
              "</g>\n",
              "</svg></span>"
            ]
          },
          "metadata": {}
        }
      ],
      "source": [
        "# этот код позволяет отобразить дерево зависимостей с помощью SpaCy\n",
        "# посмотрите, как работает ваша разметка\n",
        "# рекомендуется самостоятельное знакомство с библиотекой displacy\n",
        "example_text = texts[3] # попробуйте визуализировать любой другой текст\n",
        "doc = nlp(example_text)\n",
        "displacy.render(doc, style=\"dep\", jupyter=True, options={\"distance\": 120})"
      ]
    },
    {
      "cell_type": "markdown",
      "source": [
        "**Шаг 7**: загрузка на HF Datasets\n",
        "\n",
        "Ссылка на ваш датасет:\n",
        "\n",
        "1."
      ],
      "metadata": {
        "id": "jtEjVtQFR8Ct"
      }
    },
    {
      "cell_type": "code",
      "source": [
        "# Создаем датасет\n",
        "from datasets import Dataset\n",
        "dataset = Dataset.from_pandas(df)\n",
        "\n",
        "# Публикация датасета\n",
        "# Замените 'your_dataset_name' на имя вашего датасета и добавьте токен.\n",
        "dataset.push_to_hub(\"dataset_with_text\", token=\"token\")\n",
        "\n",
        "# просмотр результатов\n",
        "dataset"
      ],
      "metadata": {
        "id": "y-TzL7A4I66R"
      },
      "execution_count": null,
      "outputs": []
    }
  ]
}